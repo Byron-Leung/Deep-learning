{
  "nbformat": 4,
  "nbformat_minor": 0,
  "metadata": {
    "colab": {
      "name": "Copy of model.ipynb",
      "provenance": [],
      "collapsed_sections": [],
      "machine_shape": "hm",
      "authorship_tag": "ABX9TyNodp5o32FtbZmN9uXF9k2R",
      "include_colab_link": true
    },
    "kernelspec": {
      "name": "python3",
      "display_name": "Python 3"
    },
    "accelerator": "TPU"
  },
  "cells": [
    {
      "cell_type": "markdown",
      "metadata": {
        "id": "view-in-github",
        "colab_type": "text"
      },
      "source": [
        "<a href=\"https://colab.research.google.com/github/Byron-Leung/Deep-learning/blob/master/Copy_of_model.ipynb\" target=\"_parent\"><img src=\"https://colab.research.google.com/assets/colab-badge.svg\" alt=\"Open In Colab\"/></a>"
      ]
    },
    {
      "cell_type": "code",
      "metadata": {
        "id": "WEXg0kIZhs0_",
        "colab_type": "code",
        "outputId": "bfa2f230-9617-4f73-d30a-22bc79bf5a7f",
        "colab": {
          "base_uri": "https://localhost:8080/",
          "height": 122
        }
      },
      "source": [
        "#this part mount google drive to colab\n",
        "import os\n",
        "import tarfile\n",
        "from google.colab import drive\n",
        "drive.mount('/content/gdrive/')"
      ],
      "execution_count": 0,
      "outputs": [
        {
          "output_type": "stream",
          "text": [
            "Go to this URL in a browser: https://accounts.google.com/o/oauth2/auth?client_id=947318989803-6bn6qk8qdgf4n4g3pfee6491hc0brc4i.apps.googleusercontent.com&redirect_uri=urn%3aietf%3awg%3aoauth%3a2.0%3aoob&response_type=code&scope=email%20https%3a%2f%2fwww.googleapis.com%2fauth%2fdocs.test%20https%3a%2f%2fwww.googleapis.com%2fauth%2fdrive%20https%3a%2f%2fwww.googleapis.com%2fauth%2fdrive.photos.readonly%20https%3a%2f%2fwww.googleapis.com%2fauth%2fpeopleapi.readonly\n",
            "\n",
            "Enter your authorization code:\n",
            "··········\n",
            "Mounted at /content/gdrive/\n"
          ],
          "name": "stdout"
        }
      ]
    },
    {
      "cell_type": "code",
      "metadata": {
        "id": "1xDRbasQjR7o",
        "colab_type": "code",
        "colab": {}
      },
      "source": [
        "from keras.preprocessing.image import ImageDataGenerator\n",
        "train_dir = 'gdrive/My Drive/dataset/train'\n",
        "test_dir = 'gdrive/My Drive/dataset/test'\n",
        "vali_dir = 'gdrive/My Drive/dataset/val'\n",
        "train_datagen=ImageDataGenerator(rescale=1./255,rotation_range=45\n",
        "                                 ,width_shift_range=0.2\n",
        "                                 ,height_shift_range=0.2,shear_range=0.2\n",
        "\n",
        "                                 ,zoom_range=0.2,horizontal_flip=True,vertical_flip=True,fill_mode=\"nearest\")\n",
        "test_datagen=ImageDataGenerator(rescale=1./255)\n",
        "vali_datagen = ImageDataGenerator(rescale=1./255)\n",
        "train_generator=train_datagen.flow_from_directory(train_dir,target_size=(299,299),batch_size=20\n",
        "                                                  ,class_mode=\"sparse\")#return 2D one-hot label\n",
        "validation_generator=vali_datagen.flow_from_directory(vali_dir,target_size=(299,299),batch_size=20,class_mode=\"sparse\")\n",
        "test_generator=test_datagen.flow_from_directory(train_dir,target_size=(299,299),batch_size=20,class_mode=\"sparse\")"
      ],
      "execution_count": 0,
      "outputs": []
    },
    {
      "cell_type": "code",
      "metadata": {
        "id": "JAejTpIUa4Ft",
        "colab_type": "code",
        "colab": {}
      },
      "source": [
        "import keras\n",
        "from keras.models import Sequential\n",
        "from keras.layers import Dense, Dropout, Flatten\n",
        "from keras.layers import Conv2D, MaxPooling2D\n",
        "from keras import models\n",
        "from keras import layers\n",
        "\n"
      ],
      "execution_count": 0,
      "outputs": []
    },
    {
      "cell_type": "markdown",
      "metadata": {
        "id": "LYIz9hTPbZir",
        "colab_type": "text"
      },
      "source": [
        "resnet50\n"
      ]
    },
    {
      "cell_type": "code",
      "metadata": {
        "id": "CB9qqeG3bV8U",
        "colab_type": "code",
        "outputId": "7e1d0f60-a2f2-4318-a485-fc55b95f065d",
        "colab": {
          "base_uri": "https://localhost:8080/",
          "height": 283
        }
      },
      "source": [
        "from keras.preprocessing.image import ImageDataGenerator\n",
        "train_dir = 'gdrive/My Drive/dataset/train'\n",
        "test_dir = 'gdrive/My Drive/dataset/test'\n",
        "vali_dir = 'gdrive/My Drive/dataset/val'\n",
        "train_datagen=ImageDataGenerator(rescale=1./255,rotation_range=45\n",
        "                                 ,width_shift_range=0.2\n",
        "                                 ,height_shift_range=0.2,shear_range=0.2\n",
        "\n",
        "                                 ,zoom_range=0.2,horizontal_flip=True,vertical_flip=True,fill_mode=\"nearest\")\n",
        "test_datagen=ImageDataGenerator(rescale=1./255)\n",
        "vali_datagen = ImageDataGenerator(rescale=1./255)\n",
        "train_generator=train_datagen.flow_from_directory(train_dir,target_size=(224,224),batch_size=20\n",
        "                                                  ,class_mode=\"sparse\")#return 2D one-hot label\n",
        "validation_generator=vali_datagen.flow_from_directory(vali_dir,target_size=(224,224),batch_size=20,class_mode=\"sparse\")\n",
        "test_generator=test_datagen.flow_from_directory(train_dir,target_size=(224,224),batch_size=20,class_mode=\"sparse\")\n",
        "from keras.applications.resnet50 import resnet50\n",
        "resnetmodel = keras.applications.resnet.ResNet50(include_top=True, weights='imagenet'\n",
        "                                   , input_tensor=None, input_shape=None #default shape(224,224)\n",
        "                                   , pooling='avg')\n",
        "                                                 # , classes=120)\n",
        "resnetmodel.compile(loss='sparse_categorical_crossentropy',optimizer = optimizers.SGD(),metrics=['accuracy'])\n",
        "reshistory = resnetmodel.fit_generator(\n",
        "    train_generator,\n",
        "    steps_per_epoch=None,\n",
        "    epochs=30,\n",
        "    validation_data=validation_generator,\n",
        "    validation_steps=None)"
      ],
      "execution_count": 0,
      "outputs": [
        {
          "output_type": "stream",
          "text": [
            "Found 16418 images belonging to 120 classes.\n",
            "Found 2009 images belonging to 120 classes.\n",
            "Found 16418 images belonging to 120 classes.\n"
          ],
          "name": "stdout"
        },
        {
          "output_type": "error",
          "ename": "NameError",
          "evalue": "ignored",
          "traceback": [
            "\u001b[0;31m---------------------------------------------------------------------------\u001b[0m",
            "\u001b[0;31mNameError\u001b[0m                                 Traceback (most recent call last)",
            "\u001b[0;32m<ipython-input-4-53d428461a98>\u001b[0m in \u001b[0;36m<module>\u001b[0;34m()\u001b[0m\n\u001b[1;32m     15\u001b[0m \u001b[0mtest_generator\u001b[0m\u001b[0;34m=\u001b[0m\u001b[0mtest_datagen\u001b[0m\u001b[0;34m.\u001b[0m\u001b[0mflow_from_directory\u001b[0m\u001b[0;34m(\u001b[0m\u001b[0mtrain_dir\u001b[0m\u001b[0;34m,\u001b[0m\u001b[0mtarget_size\u001b[0m\u001b[0;34m=\u001b[0m\u001b[0;34m(\u001b[0m\u001b[0;36m224\u001b[0m\u001b[0;34m,\u001b[0m\u001b[0;36m224\u001b[0m\u001b[0;34m)\u001b[0m\u001b[0;34m,\u001b[0m\u001b[0mbatch_size\u001b[0m\u001b[0;34m=\u001b[0m\u001b[0;36m20\u001b[0m\u001b[0;34m,\u001b[0m\u001b[0mclass_mode\u001b[0m\u001b[0;34m=\u001b[0m\u001b[0;34m\"sparse\"\u001b[0m\u001b[0;34m)\u001b[0m\u001b[0;34m\u001b[0m\u001b[0;34m\u001b[0m\u001b[0m\n\u001b[1;32m     16\u001b[0m \u001b[0;32mfrom\u001b[0m \u001b[0mkeras\u001b[0m\u001b[0;34m.\u001b[0m\u001b[0mapplications\u001b[0m\u001b[0;34m.\u001b[0m\u001b[0mresnet50\u001b[0m \u001b[0;32mimport\u001b[0m \u001b[0mresnet50\u001b[0m\u001b[0;34m\u001b[0m\u001b[0;34m\u001b[0m\u001b[0m\n\u001b[0;32m---> 17\u001b[0;31m resnetmodel = keras.applications.resnet.ResNet50(include_top=True, weights='imagenet'\n\u001b[0m\u001b[1;32m     18\u001b[0m                                    \u001b[0;34m,\u001b[0m \u001b[0minput_tensor\u001b[0m\u001b[0;34m=\u001b[0m\u001b[0;32mNone\u001b[0m\u001b[0;34m,\u001b[0m \u001b[0minput_shape\u001b[0m\u001b[0;34m=\u001b[0m\u001b[0;32mNone\u001b[0m \u001b[0;31m#default shape(224,224)\u001b[0m\u001b[0;34m\u001b[0m\u001b[0;34m\u001b[0m\u001b[0m\n\u001b[1;32m     19\u001b[0m                                    , pooling='avg')\n",
            "\u001b[0;31mNameError\u001b[0m: name 'keras' is not defined"
          ]
        }
      ]
    },
    {
      "cell_type": "markdown",
      "metadata": {
        "id": "b44xumAxbk37",
        "colab_type": "text"
      },
      "source": [
        "Vgg16\n"
      ]
    },
    {
      "cell_type": "code",
      "metadata": {
        "id": "M_wbubEpbmt3",
        "colab_type": "code",
        "outputId": "a3305145-4951-4b1b-caf0-42cdc8c57ed7",
        "colab": {
          "base_uri": "https://localhost:8080/",
          "height": 232
        }
      },
      "source": [
        "from keras.applications.vgg16 import vgg16\n",
        "vggmodel = keras.applications.vgg16.VGG16(include_top=True, weights='imagenet',\n",
        "                                input_tensor=None, input_shape=None,\n",
        "                                pooling=None,\n",
        "                                classes=1000)\n",
        "vggmodel.compile(loss='sparse_categorical_crossentropy',optimizer = optimizers.SGD(),metrics=['accuracy'])\n",
        "vggmodel.summary()\n",
        "vgghistory = vggmodel.fit_generator(\n",
        "    train_generator,\n",
        "    steps_per_epoch=None,\n",
        "    epochs=30,\n",
        "    validation_data=validation_generator,\n",
        "    validation_steps=None)"
      ],
      "execution_count": 0,
      "outputs": [
        {
          "output_type": "error",
          "ename": "NameError",
          "evalue": "ignored",
          "traceback": [
            "\u001b[0;31m---------------------------------------------------------------------------\u001b[0m",
            "\u001b[0;31mNameError\u001b[0m                                 Traceback (most recent call last)",
            "\u001b[0;32m<ipython-input-5-f1a82929c182>\u001b[0m in \u001b[0;36m<module>\u001b[0;34m()\u001b[0m\n\u001b[1;32m      1\u001b[0m \u001b[0;32mfrom\u001b[0m \u001b[0mkeras\u001b[0m\u001b[0;34m.\u001b[0m\u001b[0mapplications\u001b[0m\u001b[0;34m.\u001b[0m\u001b[0mvgg16\u001b[0m \u001b[0;32mimport\u001b[0m \u001b[0mvgg16\u001b[0m\u001b[0;34m\u001b[0m\u001b[0;34m\u001b[0m\u001b[0m\n\u001b[0;32m----> 2\u001b[0;31m vggmodel = keras.applications.vgg16.VGG16(include_top=True, weights='imagenet',\n\u001b[0m\u001b[1;32m      3\u001b[0m                                 \u001b[0minput_tensor\u001b[0m\u001b[0;34m=\u001b[0m\u001b[0;32mNone\u001b[0m\u001b[0;34m,\u001b[0m \u001b[0minput_shape\u001b[0m\u001b[0;34m=\u001b[0m\u001b[0;32mNone\u001b[0m\u001b[0;34m,\u001b[0m\u001b[0;34m\u001b[0m\u001b[0;34m\u001b[0m\u001b[0m\n\u001b[1;32m      4\u001b[0m                                 \u001b[0mpooling\u001b[0m\u001b[0;34m=\u001b[0m\u001b[0;32mNone\u001b[0m\u001b[0;34m,\u001b[0m\u001b[0;34m\u001b[0m\u001b[0;34m\u001b[0m\u001b[0m\n\u001b[1;32m      5\u001b[0m                                 classes=1000)\n",
            "\u001b[0;31mNameError\u001b[0m: name 'keras' is not defined"
          ]
        }
      ]
    },
    {
      "cell_type": "code",
      "metadata": {
        "id": "LzAk5XEZ9KUa",
        "colab_type": "code",
        "colab": {}
      },
      "source": [
        ""
      ],
      "execution_count": 0,
      "outputs": []
    },
    {
      "cell_type": "markdown",
      "metadata": {
        "id": "12MPhbCKbsMy",
        "colab_type": "text"
      },
      "source": [
        "xception"
      ]
    },
    {
      "cell_type": "code",
      "metadata": {
        "id": "RYx02VJsbvXN",
        "colab_type": "code",
        "outputId": "baf15c4b-5689-4beb-f6f9-0d918863f1e9",
        "colab": {
          "base_uri": "https://localhost:8080/",
          "height": 1000
        }
      },
      "source": [
        "import keras\n",
        "from keras.preprocessing.image import ImageDataGenerator\n",
        "from keras import optimizers\n",
        "train_dir = 'gdrive/My Drive/dataset/train'\n",
        "test_dir = 'gdrive/My Drive/dataset/test'\n",
        "vali_dir = 'gdrive/My Drive/dataset/val'\n",
        "train_datagen=ImageDataGenerator(rescale=1./255,rotation_range=45\n",
        "                                 ,width_shift_range=0.2\n",
        "                                 ,height_shift_range=0.2,shear_range=0.2\n",
        "                                 ,zoom_range=0.2,horizontal_flip=True,vertical_flip=True,fill_mode=\"nearest\")\n",
        "test_datagen=ImageDataGenerator(rescale=1./255)\n",
        "vali_datagen = ImageDataGenerator(rescale=1./255)\n",
        "train_generator=train_datagen.flow_from_directory(train_dir,target_size=(299,299),batch_size=20\n",
        "                                                  ,class_mode=\"sparse\")#return 2D one-hot label\n",
        "validation_generator=vali_datagen.flow_from_directory(vali_dir,target_size=(299,299),batch_size=20,class_mode=\"sparse\")\n",
        "test_generator=test_datagen.flow_from_directory(train_dir,target_size=(299,299),batch_size=20,class_mode=\"sparse\")\n",
        "from keras.applications.xception import xception\n",
        "xmodel = keras.applications.xception.Xception(include_top=True, weights='imagenet'\n",
        "                                              , input_tensor=None, input_shape=None, pooling=None, classes=1000)\n",
        "##%\n",
        "xmodel.compile(loss='sparse_categorical_crossentropy',optimizer = optimizers.SGD(),metrics=['accuracy'])\n",
        "#%%\n",
        "xhistory = xmodel.fit_generator(\n",
        "    train_generator,\n",
        "    steps_per_epoch=None,\n",
        "    epochs=30,\n",
        "    validation_data=validation_generator,\n",
        "    validation_steps=None)"
      ],
      "execution_count": 0,
      "outputs": [
        {
          "output_type": "stream",
          "text": [
            "Found 16418 images belonging to 120 classes.\n",
            "Found 2009 images belonging to 120 classes.\n",
            "Found 16418 images belonging to 120 classes.\n",
            "Downloading data from https://github.com/fchollet/deep-learning-models/releases/download/v0.4/xception_weights_tf_dim_ordering_tf_kernels.h5\n",
            "91889664/91884032 [==============================] - 2s 0us/step\n",
            "Epoch 1/30\n",
            "821/821 [==============================] - 6748s 8s/step - loss: 4.8853 - accuracy: 0.0889 - val_loss: 3.2267 - val_accuracy: 0.3683\n",
            "Epoch 2/30\n",
            "821/821 [==============================] - 567s 690ms/step - loss: 2.3128 - accuracy: 0.4574 - val_loss: 0.3939 - val_accuracy: 0.7307\n",
            "Epoch 3/30\n",
            "821/821 [==============================] - 558s 679ms/step - loss: 1.4807 - accuracy: 0.6121 - val_loss: 0.4232 - val_accuracy: 0.7850\n",
            "Epoch 4/30\n",
            "821/821 [==============================] - 556s 678ms/step - loss: 1.1655 - accuracy: 0.6785 - val_loss: 0.2062 - val_accuracy: 0.8104\n",
            "Epoch 5/30\n",
            "821/821 [==============================] - 556s 677ms/step - loss: 0.9894 - accuracy: 0.7169 - val_loss: 0.5441 - val_accuracy: 0.8288\n",
            "Epoch 6/30\n",
            "821/821 [==============================] - 556s 677ms/step - loss: 0.8642 - accuracy: 0.7474 - val_loss: 0.5233 - val_accuracy: 0.8233\n",
            "Epoch 7/30\n",
            "821/821 [==============================] - 556s 677ms/step - loss: 0.7853 - accuracy: 0.7671 - val_loss: 0.2828 - val_accuracy: 0.8382\n",
            "Epoch 8/30\n",
            "821/821 [==============================] - 556s 677ms/step - loss: 0.7122 - accuracy: 0.7873 - val_loss: 0.2001 - val_accuracy: 0.8303\n",
            "Epoch 9/30\n",
            "821/821 [==============================] - 555s 676ms/step - loss: 0.6480 - accuracy: 0.8064 - val_loss: 0.7034 - val_accuracy: 0.8417\n",
            "Epoch 10/30\n",
            "821/821 [==============================] - 555s 677ms/step - loss: 0.5983 - accuracy: 0.8190 - val_loss: 0.3348 - val_accuracy: 0.8517\n",
            "Epoch 11/30\n",
            "821/821 [==============================] - 555s 676ms/step - loss: 0.5625 - accuracy: 0.8267 - val_loss: 0.3688 - val_accuracy: 0.8492\n",
            "Epoch 12/30\n",
            "821/821 [==============================] - 556s 677ms/step - loss: 0.5195 - accuracy: 0.8413 - val_loss: 0.5747 - val_accuracy: 0.8442\n",
            "Epoch 13/30\n",
            "821/821 [==============================] - 557s 678ms/step - loss: 0.4827 - accuracy: 0.8522 - val_loss: 0.3718 - val_accuracy: 0.8417\n",
            "Epoch 14/30\n",
            "821/821 [==============================] - 556s 677ms/step - loss: 0.4569 - accuracy: 0.8612 - val_loss: 0.1234 - val_accuracy: 0.8472\n",
            "Epoch 15/30\n",
            "821/821 [==============================] - 555s 677ms/step - loss: 0.4321 - accuracy: 0.8702 - val_loss: 0.2400 - val_accuracy: 0.8482\n",
            "Epoch 16/30\n",
            "821/821 [==============================] - 556s 677ms/step - loss: 0.4023 - accuracy: 0.8777 - val_loss: 1.4165 - val_accuracy: 0.8532\n",
            "Epoch 17/30\n",
            "821/821 [==============================] - 556s 677ms/step - loss: 0.3852 - accuracy: 0.8812 - val_loss: 0.0122 - val_accuracy: 0.8422\n",
            "Epoch 18/30\n",
            "821/821 [==============================] - 556s 677ms/step - loss: 0.3496 - accuracy: 0.8943 - val_loss: 0.0991 - val_accuracy: 0.8417\n",
            "Epoch 19/30\n",
            "821/821 [==============================] - 556s 677ms/step - loss: 0.3350 - accuracy: 0.8963 - val_loss: 0.5862 - val_accuracy: 0.8392\n",
            "Epoch 20/30\n",
            "821/821 [==============================] - 556s 677ms/step - loss: 0.3154 - accuracy: 0.9073 - val_loss: 0.9919 - val_accuracy: 0.8412\n",
            "Epoch 21/30\n",
            "821/821 [==============================] - 579s 705ms/step - loss: 0.2965 - accuracy: 0.9106 - val_loss: 0.6433 - val_accuracy: 0.8437\n",
            "Epoch 22/30\n",
            "821/821 [==============================] - 566s 690ms/step - loss: 0.2793 - accuracy: 0.9138 - val_loss: 1.0218 - val_accuracy: 0.8437\n",
            "Epoch 23/30\n",
            "821/821 [==============================] - 563s 686ms/step - loss: 0.2741 - accuracy: 0.9194 - val_loss: 0.4544 - val_accuracy: 0.8437\n",
            "Epoch 24/30\n",
            "821/821 [==============================] - 562s 684ms/step - loss: 0.2524 - accuracy: 0.9225 - val_loss: 0.8617 - val_accuracy: 0.8502\n",
            "Epoch 25/30\n",
            "821/821 [==============================] - 561s 683ms/step - loss: 0.2364 - accuracy: 0.9294 - val_loss: 0.7989 - val_accuracy: 0.8412\n",
            "Epoch 26/30\n",
            "821/821 [==============================] - 563s 686ms/step - loss: 0.2262 - accuracy: 0.9315 - val_loss: 1.0190 - val_accuracy: 0.8333\n",
            "Epoch 27/30\n",
            "821/821 [==============================] - 561s 683ms/step - loss: 0.2239 - accuracy: 0.9327 - val_loss: 0.4116 - val_accuracy: 0.8432\n",
            "Epoch 28/30\n",
            "821/821 [==============================] - 566s 689ms/step - loss: 0.2084 - accuracy: 0.9393 - val_loss: 0.6040 - val_accuracy: 0.8427\n",
            "Epoch 29/30\n",
            "821/821 [==============================] - 562s 684ms/step - loss: 0.1977 - accuracy: 0.9411 - val_loss: 1.1562 - val_accuracy: 0.8457\n",
            "Epoch 30/30\n",
            "821/821 [==============================] - 567s 691ms/step - loss: 0.1847 - accuracy: 0.9472 - val_loss: 0.0522 - val_accuracy: 0.8333\n"
          ],
          "name": "stdout"
        }
      ]
    },
    {
      "cell_type": "code",
      "metadata": {
        "id": "H51vPWls-3qm",
        "colab_type": "code",
        "outputId": "39424553-c620-4a3a-fe9a-f41c2a3e04ab",
        "colab": {
          "base_uri": "https://localhost:8080/",
          "height": 295
        }
      },
      "source": [
        "import matplotlib.pyplot as plt\n",
        "\n",
        "plt.plot(xhistory.history['accuracy'])\n",
        "plt.plot(xhistory.history['val_accuracy'])\n",
        "plt.title('Model Accuracy')\n",
        "plt.ylabel('Accuracy')\n",
        "plt.xlabel('Epoch')\n",
        "plt.legend(['Train','val'], loc='upper left')\n",
        "plt.show()"
      ],
      "execution_count": 0,
      "outputs": [
        {
          "output_type": "display_data",
          "data": {
            "image/png": "[encoded data removed]",
            "text/plain": [
              "<Figure size 432x288 with 1 Axes>"
            ]
          },
          "metadata": {
            "tags": [],
            "needs_background": "light"
          }
        }
      ]
    },
    {
      "cell_type": "code",
      "metadata": {
        "id": "zG09kNmUYiax",
        "colab_type": "code",
        "colab": {}
      },
      "source": [
        "xmodel.save('/content/gdrive/My Drive/xmodel.h5')\n",
        "xmodel.save_weights('/content/gdrive/My Drive/xmodel_weight.h5')"
      ],
      "execution_count": 0,
      "outputs": []
    },
    {
      "cell_type": "code",
      "metadata": {
        "id": "GsdxAvYxbDzX",
        "colab_type": "code",
        "outputId": "86f522e4-b545-4bdb-8f5e-2a9d0ca6d261",
        "colab": {
          "base_uri": "https://localhost:8080/",
          "height": 1000
        }
      },
      "source": [
        "import keras\n",
        "from keras.preprocessing.image import ImageDataGenerator\n",
        "from keras import optimizers\n",
        "train_dir = 'gdrive/My Drive/dataset/train'\n",
        "test_dir = 'gdrive/My Drive/dataset/test'\n",
        "vali_dir = 'gdrive/My Drive/dataset/val'\n",
        "train_datagen=ImageDataGenerator(rescale=1./255,rotation_range=45\n",
        "                                 ,width_shift_range=0.2\n",
        "                                 ,height_shift_range=0.2,shear_range=0.2\n",
        "                                 ,zoom_range=0.2,horizontal_flip=True,vertical_flip=True,fill_mode=\"nearest\")\n",
        "test_datagen=ImageDataGenerator(rescale=1./255)\n",
        "vali_datagen = ImageDataGenerator(rescale=1./255)\n",
        "train_generator=train_datagen.flow_from_directory(train_dir,target_size=(299,299),batch_size=20\n",
        "                                                  ,class_mode=\"sparse\")#return 2D one-hot label\n",
        "validation_generator=vali_datagen.flow_from_directory(vali_dir,target_size=(299,299),batch_size=20,class_mode=\"sparse\")\n",
        "test_generator=test_datagen.flow_from_directory(train_dir,target_size=(299,299),batch_size=20,class_mode=\"sparse\")\n",
        "from keras.applications.xception import xception\n",
        "sgdn = optimizers.SGD(lr=0.01, decay=1e-6, momentum=0.9, nesterov=True)#with nesterov as optimizer\n",
        "\n",
        "xmodel_1 = keras.applications.xception.Xception(include_top=True, weights='imagenet'\n",
        "                                              , input_tensor=None, input_shape=None, pooling=None, classes=1000)\n",
        "##%\n",
        "xmodel_1.compile(loss='sparse_categorical_crossentropy',optimizer = sgdn,metrics=['accuracy'])\n",
        "#%%\n",
        "xhistory_1 = xmodel_1.fit_generator(\n",
        "    train_generator,\n",
        "    steps_per_epoch=None,\n",
        "    epochs=30,\n",
        "    validation_data=validation_generator,\n",
        "    validation_steps=None)"
      ],
      "execution_count": 0,
      "outputs": [
        {
          "output_type": "stream",
          "text": [
            "Using TensorFlow backend.\n"
          ],
          "name": "stderr"
        },
        {
          "output_type": "stream",
          "text": [
            "Found 16418 images belonging to 120 classes.\n",
            "Found 2009 images belonging to 120 classes.\n",
            "Found 16418 images belonging to 120 classes.\n",
            "Downloading data from https://github.com/fchollet/deep-learning-models/releases/download/v0.4/xception_weights_tf_dim_ordering_tf_kernels.h5\n",
            "91889664/91884032 [==============================] - 3s 0us/step\n",
            "Epoch 1/30\n",
            "821/821 [==============================] - 5899s 7s/step - loss: 3.4465 - accuracy: 0.3088 - val_loss: 1.6893 - val_accuracy: 0.6332\n",
            "Epoch 2/30\n",
            "821/821 [==============================] - 583s 711ms/step - loss: 1.2454 - accuracy: 0.6300 - val_loss: 0.5855 - val_accuracy: 0.6690\n",
            "Epoch 3/30\n",
            "821/821 [==============================] - 565s 688ms/step - loss: 0.9779 - accuracy: 0.7075 - val_loss: 0.3325 - val_accuracy: 0.7302\n",
            "Epoch 4/30\n",
            "821/821 [==============================] - 561s 683ms/step - loss: 0.8180 - accuracy: 0.7459 - val_loss: 1.6155 - val_accuracy: 0.7138\n",
            "Epoch 5/30\n",
            "821/821 [==============================] - 558s 679ms/step - loss: 0.6912 - accuracy: 0.7847 - val_loss: 0.3043 - val_accuracy: 0.7312\n",
            "Epoch 6/30\n",
            "821/821 [==============================] - 558s 680ms/step - loss: 0.6063 - accuracy: 0.8062 - val_loss: 0.8554 - val_accuracy: 0.7541\n",
            "Epoch 7/30\n",
            "821/821 [==============================] - 566s 689ms/step - loss: 0.5270 - accuracy: 0.8296 - val_loss: 1.0284 - val_accuracy: 0.7272\n",
            "Epoch 8/30\n",
            "821/821 [==============================] - 557s 678ms/step - loss: 0.4651 - accuracy: 0.8506 - val_loss: 0.3866 - val_accuracy: 0.7471\n",
            "Epoch 9/30\n",
            "821/821 [==============================] - 557s 678ms/step - loss: 0.4098 - accuracy: 0.8670 - val_loss: 0.6011 - val_accuracy: 0.7317\n",
            "Epoch 10/30\n",
            "821/821 [==============================] - 551s 671ms/step - loss: 0.3440 - accuracy: 0.8892 - val_loss: 1.3163 - val_accuracy: 0.7317\n",
            "Epoch 11/30\n",
            "821/821 [==============================] - 550s 670ms/step - loss: 0.3141 - accuracy: 0.8957 - val_loss: 3.1869 - val_accuracy: 0.7392\n",
            "Epoch 12/30\n",
            "821/821 [==============================] - 550s 669ms/step - loss: 0.2809 - accuracy: 0.9077 - val_loss: 1.4409 - val_accuracy: 0.7451\n",
            "Epoch 13/30\n",
            "821/821 [==============================] - 550s 669ms/step - loss: 0.2461 - accuracy: 0.9213 - val_loss: 1.4019 - val_accuracy: 0.7446\n",
            "Epoch 14/30\n",
            "821/821 [==============================] - 549s 669ms/step - loss: 0.2291 - accuracy: 0.9244 - val_loss: 2.2544 - val_accuracy: 0.7531\n",
            "Epoch 15/30\n",
            "821/821 [==============================] - 550s 670ms/step - loss: 0.2038 - accuracy: 0.9356 - val_loss: 0.0993 - val_accuracy: 0.7521\n",
            "Epoch 16/30\n",
            "821/821 [==============================] - 550s 670ms/step - loss: 0.1951 - accuracy: 0.9364 - val_loss: 0.2752 - val_accuracy: 0.7656\n",
            "Epoch 17/30\n",
            "821/821 [==============================] - 550s 670ms/step - loss: 0.1736 - accuracy: 0.9460 - val_loss: 1.2494 - val_accuracy: 0.7675\n",
            "Epoch 18/30\n",
            "821/821 [==============================] - 549s 669ms/step - loss: 0.1446 - accuracy: 0.9550 - val_loss: 0.2901 - val_accuracy: 0.7536\n",
            "Epoch 19/30\n",
            "821/821 [==============================] - 549s 669ms/step - loss: 0.1410 - accuracy: 0.9567 - val_loss: 3.3806 - val_accuracy: 0.7710\n",
            "Epoch 20/30\n",
            "821/821 [==============================] - 552s 672ms/step - loss: 0.1448 - accuracy: 0.9562 - val_loss: 1.5350 - val_accuracy: 0.7670\n",
            "Epoch 21/30\n",
            "821/821 [==============================] - 582s 708ms/step - loss: 0.1184 - accuracy: 0.9624 - val_loss: 1.3331 - val_accuracy: 0.7705\n",
            "Epoch 22/30\n",
            "821/821 [==============================] - 582s 709ms/step - loss: 0.1141 - accuracy: 0.9620 - val_loss: 0.8342 - val_accuracy: 0.7641\n",
            "Epoch 23/30\n",
            "821/821 [==============================] - 562s 684ms/step - loss: 0.0985 - accuracy: 0.9681 - val_loss: 2.8577 - val_accuracy: 0.7606\n",
            "Epoch 24/30\n",
            "821/821 [==============================] - 561s 684ms/step - loss: 0.1006 - accuracy: 0.9688 - val_loss: 1.1159 - val_accuracy: 0.7337\n",
            "Epoch 25/30\n",
            "821/821 [==============================] - 557s 679ms/step - loss: 0.0941 - accuracy: 0.9687 - val_loss: 2.4024 - val_accuracy: 0.7407\n",
            "Epoch 26/30\n",
            "821/821 [==============================] - 561s 684ms/step - loss: 0.0785 - accuracy: 0.9761 - val_loss: 0.0036 - val_accuracy: 0.7790\n",
            "Epoch 27/30\n",
            "821/821 [==============================] - 579s 706ms/step - loss: 0.0761 - accuracy: 0.9773 - val_loss: 0.0628 - val_accuracy: 0.7675\n",
            "Epoch 28/30\n",
            "821/821 [==============================] - 574s 699ms/step - loss: 0.0685 - accuracy: 0.9781 - val_loss: 0.5401 - val_accuracy: 0.7626\n",
            "Epoch 29/30\n",
            "821/821 [==============================] - 565s 688ms/step - loss: 0.0720 - accuracy: 0.9776 - val_loss: 1.6407 - val_accuracy: 0.7661\n",
            "Epoch 30/30\n",
            "821/821 [==============================] - 570s 694ms/step - loss: 0.0695 - accuracy: 0.9792 - val_loss: 2.4798 - val_accuracy: 0.7651\n"
          ],
          "name": "stdout"
        }
      ]
    },
    {
      "cell_type": "code",
      "metadata": {
        "id": "rBOfp6CwuIVV",
        "colab_type": "code",
        "outputId": "47ff99df-2b83-47cd-c9bc-5c60fb01f474",
        "colab": {
          "base_uri": "https://localhost:8080/",
          "height": 295
        }
      },
      "source": [
        "import matplotlib.pyplot as plt\n",
        "\n",
        "plt.plot(xhistory_1.history['accuracy'])\n",
        "plt.plot(xhistory_1.history['val_accuracy'])\n",
        "plt.title('Model Accuracy')\n",
        "plt.ylabel('Accuracy')\n",
        "plt.xlabel('Epoch')\n",
        "plt.legend(['Train','val'], loc='upper left')\n",
        "plt.show()"
      ],
      "execution_count": 0,
      "outputs": [
        {
          "output_type": "display_data",
          "data": {
            "image/png": "[encoded data removed]",
            "text/plain": [
              "<Figure size 432x288 with 1 Axes>"
            ]
          },
          "metadata": {
            "tags": [],
            "needs_background": "light"
          }
        }
      ]
    },
    {
      "cell_type": "code",
      "metadata": {
        "id": "RW8AwCPXuAfM",
        "colab_type": "code",
        "colab": {}
      },
      "source": [
        "xmodel_1.save('/content/gdrive/My Drive/xmodel_1.h5')\n",
        "xmodel_1.save_weights('/content/gdrive/My Drive/xmodel_1_weight.h5')"
      ],
      "execution_count": 0,
      "outputs": []
    },
    {
      "cell_type": "code",
      "metadata": {
        "id": "JBNyYSGrXorH",
        "colab_type": "code",
        "colab": {}
      },
      "source": [
        ""
      ],
      "execution_count": 0,
      "outputs": []
    },
    {
      "cell_type": "code",
      "metadata": {
        "id": "gbcLdMZUPjBz",
        "colab_type": "code",
        "colab": {}
      },
      "source": [
        "from keras.utils import plot_model\n",
        "plot_model(xmodel_1, to_file='xmodel-1.jpg', show_shapes=True, show_layer_names=True) # plot my model"
      ],
      "execution_count": 0,
      "outputs": []
    },
    {
      "cell_type": "code",
      "metadata": {
        "id": "PERhGykjwhPx",
        "colab_type": "code",
        "outputId": "842f7992-e179-4f4e-ce5d-a86009219fbf",
        "colab": {
          "base_uri": "https://localhost:8080/",
          "height": 239
        }
      },
      "source": [
        "from keras.models import load_model\n",
        "xmodel_1 = load_model('gdrive/My Drive/xmodel_1.h5')"
      ],
      "execution_count": 0,
      "outputs": [
        {
          "output_type": "error",
          "ename": "ValueError",
          "evalue": "ignored",
          "traceback": [
            "\u001b[0;31m---------------------------------------------------------------------------\u001b[0m",
            "\u001b[0;31mValueError\u001b[0m                                Traceback (most recent call last)",
            "\u001b[0;32m<ipython-input-9-4b8dc9d3ccbb>\u001b[0m in \u001b[0;36m<module>\u001b[0;34m()\u001b[0m\n\u001b[1;32m      1\u001b[0m \u001b[0;32mfrom\u001b[0m \u001b[0mkeras\u001b[0m\u001b[0;34m.\u001b[0m\u001b[0mmodels\u001b[0m \u001b[0;32mimport\u001b[0m \u001b[0mload_model\u001b[0m\u001b[0;34m\u001b[0m\u001b[0;34m\u001b[0m\u001b[0m\n\u001b[0;32m----> 2\u001b[0;31m \u001b[0mxmodel_1\u001b[0m \u001b[0;34m=\u001b[0m \u001b[0mload_model\u001b[0m\u001b[0;34m(\u001b[0m\u001b[0;34m'gdrive/My Drive/xmodel_1.h5'\u001b[0m\u001b[0;34m)\u001b[0m\u001b[0;34m\u001b[0m\u001b[0;34m\u001b[0m\u001b[0m\n\u001b[0m",
            "\u001b[0;32m/usr/local/lib/python3.6/dist-packages/keras/engine/saving.py\u001b[0m in \u001b[0;36mload_wrapper\u001b[0;34m(*args, **kwargs)\u001b[0m\n",
            "\u001b[0;32m/usr/local/lib/python3.6/dist-packages/keras/engine/saving.py\u001b[0m in \u001b[0;36mload_model\u001b[0;34m(filepath, custom_objects, compile)\u001b[0m\n",
            "\u001b[0;32m/usr/local/lib/python3.6/dist-packages/keras/engine/saving.py\u001b[0m in \u001b[0;36m_deserialize_model\u001b[0;34m(h5dict, custom_objects, compile)\u001b[0m\n",
            "\u001b[0;32m/usr/local/lib/python3.6/dist-packages/keras/utils/io_utils.py\u001b[0m in \u001b[0;36m__getitem__\u001b[0;34m(self, attr)\u001b[0m\n",
            "\u001b[0;31mValueError\u001b[0m: Cannot create group in read-only mode."
          ]
        }
      ]
    },
    {
      "cell_type": "code",
      "metadata": {
        "id": "5NKmQ3NdqoJi",
        "colab_type": "code",
        "outputId": "8f04fd11-8768-4fbe-dcbf-de99d2e2bfa9",
        "colab": {
          "base_uri": "https://localhost:8080/",
          "height": 51
        }
      },
      "source": [
        "import keras\n",
        "from keras.applications.xception import xception\n",
        "from keras import optimizers\n",
        "sgdn = optimizers.SGD(lr=0.01, decay=1e-6, momentum=0.9, nesterov=True)#with nesterov as optimizer\n",
        "\n",
        "xmodel_1 = keras.applications.xception.Xception(include_top=True, weights='imagenet'\n",
        "                                              , input_tensor=None, input_shape=None, pooling=None, classes=1000)"
      ],
      "execution_count": 0,
      "outputs": [
        {
          "output_type": "stream",
          "text": [
            "Downloading data from https://github.com/fchollet/deep-learning-models/releases/download/v0.4/xception_weights_tf_dim_ordering_tf_kernels.h5\n",
            "91889664/91884032 [==============================] - 2s 0us/step\n"
          ],
          "name": "stdout"
        }
      ]
    },
    {
      "cell_type": "code",
      "metadata": {
        "id": "mQbPkHFQdLc0",
        "colab_type": "code",
        "colab": {}
      },
      "source": [
        "xmodel_1.trainable = False"
      ],
      "execution_count": 0,
      "outputs": []
    },
    {
      "cell_type": "code",
      "metadata": {
        "id": "8A6c5S6E0tNd",
        "colab_type": "code",
        "outputId": "4bb3ad0e-4e1f-41b1-b5ab-b4670755aecf",
        "colab": {
          "base_uri": "https://localhost:8080/",
          "height": 34
        }
      },
      "source": [
        "xmodel_1.layers.pop()\n",
        "# xmodel_1.summary()\n",
        "# predictions (Dense)             (None, 1000)         2049000     avg_pool[0][0]      "
      ],
      "execution_count": 0,
      "outputs": [
        {
          "output_type": "execute_result",
          "data": {
            "text/plain": [
              "<keras.layers.core.Dense at 0x7fc64c2e87f0>"
            ]
          },
          "metadata": {
            "tags": []
          },
          "execution_count": 5
        }
      ]
    },
    {
      "cell_type": "code",
      "metadata": {
        "id": "cfni0JzA-k9y",
        "colab_type": "code",
        "outputId": "17b23c58-4efb-4637-dc43-4d5ea0117b93",
        "colab": {
          "base_uri": "https://localhost:8080/",
          "height": 289
        }
      },
      "source": [
        "import keras\n",
        "xmodel_2 = keras.models.Sequential([        \n",
        "    xmodel_1,   \n",
        "    # keras.layers.Flatten(),                     \n",
        "    keras.layers.Dense(2048,activation=\"relu\"),\n",
        "    keras.layers.Dropout(0.3),\n",
        "    keras.layers.Dense(120, activation=\"softmax\")\n",
        "])\n",
        "xmodel_2.summary()"
      ],
      "execution_count": 0,
      "outputs": [
        {
          "output_type": "stream",
          "text": [
            "Model: \"sequential_1\"\n",
            "_________________________________________________________________\n",
            "Layer (type)                 Output Shape              Param #   \n",
            "=================================================================\n",
            "xception (Model)             (None, 1000)              20861480  \n",
            "_________________________________________________________________\n",
            "dense_1 (Dense)              (None, 2048)              2050048   \n",
            "_________________________________________________________________\n",
            "dropout_1 (Dropout)          (None, 2048)              0         \n",
            "_________________________________________________________________\n",
            "dense_2 (Dense)              (None, 120)               245880    \n",
            "=================================================================\n",
            "Total params: 23,157,408\n",
            "Trainable params: 2,295,928\n",
            "Non-trainable params: 20,861,480\n",
            "_________________________________________________________________\n"
          ],
          "name": "stdout"
        }
      ]
    },
    {
      "cell_type": "code",
      "metadata": {
        "id": "fjTmuP4GrUWX",
        "colab_type": "code",
        "colab": {}
      },
      "source": [
        "xmodel_2.load_weights(r'/content/gdrive/My Drive/xmodel_1_weight.h5',\n",
        "                   by_name=True)\n",
        "xmodel_2.trainable = True"
      ],
      "execution_count": 0,
      "outputs": []
    },
    {
      "cell_type": "code",
      "metadata": {
        "id": "J7LcuuTUODK0",
        "colab_type": "code",
        "outputId": "38eb7f52-312e-49e2-983d-cc0c9357b15b",
        "colab": {
          "base_uri": "https://localhost:8080/",
          "height": 1000
        }
      },
      "source": [
        "import keras\n",
        "from keras.preprocessing.image import ImageDataGenerator\n",
        "from keras import optimizers\n",
        "train_dir = 'gdrive/My Drive/dataset/train'\n",
        "test_dir = 'gdrive/My Drive/dataset/test'\n",
        "vali_dir = 'gdrive/My Drive/dataset/val'\n",
        "train_datagen=ImageDataGenerator(rescale=1./255,rotation_range=45\n",
        "                                 ,width_shift_range=0.2\n",
        "                                 ,height_shift_range=0.2,shear_range=0.2\n",
        "                                 ,zoom_range=0.2,horizontal_flip=True,vertical_flip=True,fill_mode=\"nearest\")\n",
        "test_datagen=ImageDataGenerator(rescale=1./255)\n",
        "vali_datagen = ImageDataGenerator(rescale=1./255)\n",
        "train_generator=train_datagen.flow_from_directory(train_dir,target_size=(299,299),batch_size=20\n",
        "                                                  ,class_mode=\"sparse\")#return 2D one-hot label\n",
        "validation_generator=vali_datagen.flow_from_directory(vali_dir,target_size=(299,299),batch_size=20,class_mode=\"sparse\")\n",
        "test_generator=test_datagen.flow_from_directory(train_dir,target_size=(299,299),batch_size=20,class_mode=\"sparse\")\n",
        "# from keras.applications.xception import xception\n",
        "# sgdn = optimizers.SGD(lr=0.01, decay=1e-6, momentum=0.9, nesterov=True)#with nesterov as optimizer\n",
        "\n",
        "# xmodel_1 = keras.applications.xception.Xception(include_top=True, weights='imagenet'\n",
        "#                                               , input_tensor=None, input_shape=None, pooling=None, classes=1000)\n",
        "##%\n",
        "xmodel_2.compile(loss='sparse_categorical_crossentropy',optimizer = sgdn,metrics=['accuracy'])\n",
        "#%%\n",
        "xhistory_3 = xmodel_2.fit_generator(\n",
        "    train_generator,\n",
        "    steps_per_epoch=None,\n",
        "    epochs=30,\n",
        "    # callbacks=keras.callbacks.EarlyStopping(patience=10, restore_best_weights=True), #add early stopping\n",
        "    validation_data=validation_generator,\n",
        "    validation_steps=None)\n"
      ],
      "execution_count": 0,
      "outputs": [
        {
          "output_type": "stream",
          "text": [
            "Found 16418 images belonging to 120 classes.\n",
            "Found 2009 images belonging to 120 classes.\n",
            "Found 16418 images belonging to 120 classes.\n",
            "Epoch 1/30\n",
            "821/821 [==============================] - 5610s 7s/step - loss: 4.7071 - accuracy: 0.1299 - val_loss: 4.3470 - val_accuracy: 0.3265\n",
            "Epoch 2/30\n",
            "821/821 [==============================] - 918s 1s/step - loss: 4.4890 - accuracy: 0.2796 - val_loss: 3.9145 - val_accuracy: 0.8283\n",
            "Epoch 3/30\n",
            "821/821 [==============================] - 934s 1s/step - loss: 4.1555 - accuracy: 0.4077 - val_loss: 3.1936 - val_accuracy: 0.8865\n",
            "Epoch 4/30\n",
            "821/821 [==============================] - 924s 1s/step - loss: 3.7366 - accuracy: 0.4349 - val_loss: 1.8833 - val_accuracy: 0.8940\n",
            "Epoch 5/30\n",
            "821/821 [==============================] - 927s 1s/step - loss: 3.3285 - accuracy: 0.4546 - val_loss: 1.4400 - val_accuracy: 0.8990\n",
            "Epoch 6/30\n",
            "821/821 [==============================] - 912s 1s/step - loss: 2.9991 - accuracy: 0.4651 - val_loss: 1.3382 - val_accuracy: 0.9029\n",
            "Epoch 7/30\n",
            "821/821 [==============================] - 920s 1s/step - loss: 2.8019 - accuracy: 0.4729 - val_loss: 0.2976 - val_accuracy: 0.8995\n",
            "Epoch 8/30\n",
            "821/821 [==============================] - 934s 1s/step - loss: 2.6927 - accuracy: 0.4756 - val_loss: 0.0906 - val_accuracy: 0.9069\n",
            "Epoch 9/30\n",
            "821/821 [==============================] - 1075s 1s/step - loss: 2.6070 - accuracy: 0.4812 - val_loss: 0.2767 - val_accuracy: 0.9054\n",
            "Epoch 10/30\n",
            "821/821 [==============================] - 1065s 1s/step - loss: 2.5426 - accuracy: 0.4845 - val_loss: 0.3452 - val_accuracy: 0.9069\n",
            "Epoch 11/30\n",
            "821/821 [==============================] - 919s 1s/step - loss: 2.4754 - accuracy: 0.4965 - val_loss: 0.6375 - val_accuracy: 0.9059\n",
            "Epoch 12/30\n",
            "821/821 [==============================] - 919s 1s/step - loss: 2.4746 - accuracy: 0.4926 - val_loss: 0.1918 - val_accuracy: 0.9084\n",
            "Epoch 13/30\n",
            "821/821 [==============================] - 927s 1s/step - loss: 2.4379 - accuracy: 0.4921 - val_loss: 0.5438 - val_accuracy: 0.9094\n",
            "Epoch 14/30\n",
            "821/821 [==============================] - 918s 1s/step - loss: 2.4188 - accuracy: 0.4950 - val_loss: 0.0827 - val_accuracy: 0.9074\n",
            "Epoch 15/30\n",
            "821/821 [==============================] - 921s 1s/step - loss: 2.3644 - accuracy: 0.5022 - val_loss: 0.3512 - val_accuracy: 0.9089\n",
            "Epoch 16/30\n",
            "821/821 [==============================] - 915s 1s/step - loss: 2.3658 - accuracy: 0.4990 - val_loss: 0.6601 - val_accuracy: 0.9054\n",
            "Epoch 17/30\n",
            "821/821 [==============================] - 921s 1s/step - loss: 2.3221 - accuracy: 0.5049 - val_loss: 1.0267 - val_accuracy: 0.9054\n",
            "Epoch 18/30\n",
            "821/821 [==============================] - 924s 1s/step - loss: 2.3066 - accuracy: 0.5038 - val_loss: 0.6615 - val_accuracy: 0.9084\n",
            "Epoch 19/30\n",
            "821/821 [==============================] - 914s 1s/step - loss: 2.3083 - accuracy: 0.5036 - val_loss: 0.1935 - val_accuracy: 0.9099\n",
            "Epoch 20/30\n",
            "821/821 [==============================] - 920s 1s/step - loss: 2.2837 - accuracy: 0.5083 - val_loss: 0.2484 - val_accuracy: 0.9094\n",
            "Epoch 21/30\n",
            "821/821 [==============================] - 943s 1s/step - loss: 2.2731 - accuracy: 0.5062 - val_loss: 0.2052 - val_accuracy: 0.9099\n",
            "Epoch 22/30\n",
            "821/821 [==============================] - 1021s 1s/step - loss: 2.2618 - accuracy: 0.5061 - val_loss: 0.0705 - val_accuracy: 0.9044\n",
            "Epoch 23/30\n",
            "821/821 [==============================] - 1057s 1s/step - loss: 2.2518 - accuracy: 0.5048 - val_loss: 0.1460 - val_accuracy: 0.9059\n",
            "Epoch 24/30\n",
            "821/821 [==============================] - 1006s 1s/step - loss: 2.2447 - accuracy: 0.5102 - val_loss: 0.6146 - val_accuracy: 0.9084\n",
            "Epoch 25/30\n",
            "821/821 [==============================] - 1132s 1s/step - loss: 2.2394 - accuracy: 0.5108 - val_loss: 0.5550 - val_accuracy: 0.9029\n",
            "Epoch 26/30\n",
            "821/821 [==============================] - 921s 1s/step - loss: 2.1845 - accuracy: 0.5194 - val_loss: 1.4717 - val_accuracy: 0.9039\n",
            "Epoch 27/30\n",
            "821/821 [==============================] - 923s 1s/step - loss: 2.2134 - accuracy: 0.5113 - val_loss: 0.5498 - val_accuracy: 0.9064\n",
            "Epoch 28/30\n",
            "821/821 [==============================] - 933s 1s/step - loss: 2.1902 - accuracy: 0.5126 - val_loss: 0.0635 - val_accuracy: 0.9064\n",
            "Epoch 29/30\n",
            "821/821 [==============================] - 961s 1s/step - loss: 2.2046 - accuracy: 0.5125 - val_loss: 0.0509 - val_accuracy: 0.9034\n",
            "Epoch 30/30\n",
            "821/821 [==============================] - 1045s 1s/step - loss: 2.1706 - accuracy: 0.5213 - val_loss: 0.4879 - val_accuracy: 0.9004\n"
          ],
          "name": "stdout"
        }
      ]
    },
    {
      "cell_type": "code",
      "metadata": {
        "id": "wTSNenbKhPjp",
        "colab_type": "code",
        "outputId": "58ac49df-fe62-46e1-f4ff-8682f7df2373",
        "colab": {
          "base_uri": "https://localhost:8080/",
          "height": 295
        }
      },
      "source": [
        "import matplotlib.pyplot as plt\n",
        "\n",
        "plt.plot(xhistory_3.history['accuracy'])\n",
        "plt.plot(xhistory_3.history['val_accuracy'])\n",
        "plt.title('Model Accuracy')\n",
        "plt.ylabel('Accuracy')\n",
        "plt.xlabel('Epoch')\n",
        "plt.legend(['Train','val'], loc='upper left')\n",
        "plt.show()"
      ],
      "execution_count": 0,
      "outputs": [
        {
          "output_type": "display_data",
          "data": {
            "image/png": "[encoded data removed]",
            "text/plain": [
              "<Figure size 432x288 with 1 Axes>"
            ]
          },
          "metadata": {
            "tags": [],
            "needs_background": "light"
          }
        }
      ]
    },
    {
      "cell_type": "code",
      "metadata": {
        "id": "Zk9_shM7WifD",
        "colab_type": "code",
        "outputId": "f536f5c3-0cbf-4e6c-ea3b-ef13e05b3dae",
        "colab": {
          "base_uri": "https://localhost:8080/",
          "height": 533
        }
      },
      "source": [
        "from keras.utils import plot_model\n",
        "plot_model(xmodel_2, to_file='xmodel-2.jpg', show_shapes=True, show_layer_names=True) # plot my model"
      ],
      "execution_count": 0,
      "outputs": [
        {
          "output_type": "execute_result",
          "data": {
            "image/jpeg": "[encoded data removed]",
            "text/plain": [
              "<IPython.core.display.Image object>"
            ]
          },
          "metadata": {
            "tags": []
          },
          "execution_count": 11
        }
      ]
    },
    {
      "cell_type": "code",
      "metadata": {
        "id": "dIctyrG-H70i",
        "colab_type": "code",
        "outputId": "de8f3050-c38c-406b-d531-f6648739cf15",
        "colab": {
          "base_uri": "https://localhost:8080/",
          "height": 341
        }
      },
      "source": [
        "import keras.models\n",
        "xmodel_2.save('/content/gdrive/My Drive/xmodel_droupout.h5')\n",
        "xmodel_2.save_weights('/content/gdrive/My Drive/xmodel_droupout_weight.h5')"
      ],
      "execution_count": 0,
      "outputs": [
        {
          "output_type": "error",
          "ename": "KeyError",
          "evalue": "ignored",
          "traceback": [
            "\u001b[0;31m---------------------------------------------------------------------------\u001b[0m",
            "\u001b[0;31mKeyError\u001b[0m                                  Traceback (most recent call last)",
            "\u001b[0;32m<ipython-input-10-b67650918e77>\u001b[0m in \u001b[0;36m<module>\u001b[0;34m()\u001b[0m\n\u001b[1;32m      1\u001b[0m \u001b[0;32mimport\u001b[0m \u001b[0mkeras\u001b[0m\u001b[0;34m.\u001b[0m\u001b[0mmodels\u001b[0m\u001b[0;34m\u001b[0m\u001b[0;34m\u001b[0m\u001b[0m\n\u001b[0;32m----> 2\u001b[0;31m \u001b[0mxmodel_2\u001b[0m\u001b[0;34m.\u001b[0m\u001b[0msave\u001b[0m\u001b[0;34m(\u001b[0m\u001b[0;34m'/content/gdrive/My Drive/xmodel_droupout.h5'\u001b[0m\u001b[0;34m)\u001b[0m\u001b[0;34m\u001b[0m\u001b[0;34m\u001b[0m\u001b[0m\n\u001b[0m\u001b[1;32m      3\u001b[0m \u001b[0mxmodel_2\u001b[0m\u001b[0;34m.\u001b[0m\u001b[0msave_weights\u001b[0m\u001b[0;34m(\u001b[0m\u001b[0;34m'/content/gdrive/My Drive/xmodel_droupout_weight.h5'\u001b[0m\u001b[0;34m)\u001b[0m\u001b[0;34m\u001b[0m\u001b[0;34m\u001b[0m\u001b[0m\n",
            "\u001b[0;32m/usr/local/lib/python3.6/dist-packages/keras/engine/network.py\u001b[0m in \u001b[0;36msave\u001b[0;34m(self, filepath, overwrite, include_optimizer)\u001b[0m\n\u001b[1;32m   1150\u001b[0m             \u001b[0;32mraise\u001b[0m \u001b[0mNotImplementedError\u001b[0m\u001b[0;34m\u001b[0m\u001b[0;34m\u001b[0m\u001b[0m\n\u001b[1;32m   1151\u001b[0m         \u001b[0;32mfrom\u001b[0m \u001b[0;34m.\u001b[0m\u001b[0;34m.\u001b[0m\u001b[0mmodels\u001b[0m \u001b[0;32mimport\u001b[0m \u001b[0msave_model\u001b[0m\u001b[0;34m\u001b[0m\u001b[0;34m\u001b[0m\u001b[0m\n\u001b[0;32m-> 1152\u001b[0;31m         \u001b[0msave_model\u001b[0m\u001b[0;34m(\u001b[0m\u001b[0mself\u001b[0m\u001b[0;34m,\u001b[0m \u001b[0mfilepath\u001b[0m\u001b[0;34m,\u001b[0m \u001b[0moverwrite\u001b[0m\u001b[0;34m,\u001b[0m \u001b[0minclude_optimizer\u001b[0m\u001b[0;34m)\u001b[0m\u001b[0;34m\u001b[0m\u001b[0;34m\u001b[0m\u001b[0m\n\u001b[0m\u001b[1;32m   1153\u001b[0m \u001b[0;34m\u001b[0m\u001b[0m\n\u001b[1;32m   1154\u001b[0m     \u001b[0;34m@\u001b[0m\u001b[0msaving\u001b[0m\u001b[0;34m.\u001b[0m\u001b[0mallow_write_to_gcs\u001b[0m\u001b[0;34m\u001b[0m\u001b[0;34m\u001b[0m\u001b[0m\n",
            "\u001b[0;32m/usr/local/lib/python3.6/dist-packages/keras/engine/saving.py\u001b[0m in \u001b[0;36msave_wrapper\u001b[0;34m(obj, filepath, overwrite, *args, **kwargs)\u001b[0m\n\u001b[1;32m    447\u001b[0m                 \u001b[0mos\u001b[0m\u001b[0;34m.\u001b[0m\u001b[0mremove\u001b[0m\u001b[0;34m(\u001b[0m\u001b[0mtmp_filepath\u001b[0m\u001b[0;34m)\u001b[0m\u001b[0;34m\u001b[0m\u001b[0;34m\u001b[0m\u001b[0m\n\u001b[1;32m    448\u001b[0m         \u001b[0;32melse\u001b[0m\u001b[0;34m:\u001b[0m\u001b[0;34m\u001b[0m\u001b[0;34m\u001b[0m\u001b[0m\n\u001b[0;32m--> 449\u001b[0;31m             \u001b[0msave_function\u001b[0m\u001b[0;34m(\u001b[0m\u001b[0mobj\u001b[0m\u001b[0;34m,\u001b[0m \u001b[0mfilepath\u001b[0m\u001b[0;34m,\u001b[0m \u001b[0moverwrite\u001b[0m\u001b[0;34m,\u001b[0m \u001b[0;34m*\u001b[0m\u001b[0margs\u001b[0m\u001b[0;34m,\u001b[0m \u001b[0;34m**\u001b[0m\u001b[0mkwargs\u001b[0m\u001b[0;34m)\u001b[0m\u001b[0;34m\u001b[0m\u001b[0;34m\u001b[0m\u001b[0m\n\u001b[0m\u001b[1;32m    450\u001b[0m \u001b[0;34m\u001b[0m\u001b[0m\n\u001b[1;32m    451\u001b[0m     \u001b[0;32mreturn\u001b[0m \u001b[0msave_wrapper\u001b[0m\u001b[0;34m\u001b[0m\u001b[0;34m\u001b[0m\u001b[0m\n",
            "\u001b[0;32m/usr/local/lib/python3.6/dist-packages/keras/engine/saving.py\u001b[0m in \u001b[0;36msave_model\u001b[0;34m(model, filepath, overwrite, include_optimizer)\u001b[0m\n\u001b[1;32m    539\u001b[0m                 \u001b[0;32mreturn\u001b[0m\u001b[0;34m\u001b[0m\u001b[0;34m\u001b[0m\u001b[0m\n\u001b[1;32m    540\u001b[0m         \u001b[0;32mwith\u001b[0m \u001b[0mH5Dict\u001b[0m\u001b[0;34m(\u001b[0m\u001b[0mfilepath\u001b[0m\u001b[0;34m,\u001b[0m \u001b[0mmode\u001b[0m\u001b[0;34m=\u001b[0m\u001b[0;34m'w'\u001b[0m\u001b[0;34m)\u001b[0m \u001b[0;32mas\u001b[0m \u001b[0mh5dict\u001b[0m\u001b[0;34m:\u001b[0m\u001b[0;34m\u001b[0m\u001b[0;34m\u001b[0m\u001b[0m\n\u001b[0;32m--> 541\u001b[0;31m             \u001b[0m_serialize_model\u001b[0m\u001b[0;34m(\u001b[0m\u001b[0mmodel\u001b[0m\u001b[0;34m,\u001b[0m \u001b[0mh5dict\u001b[0m\u001b[0;34m,\u001b[0m \u001b[0minclude_optimizer\u001b[0m\u001b[0;34m)\u001b[0m\u001b[0;34m\u001b[0m\u001b[0;34m\u001b[0m\u001b[0m\n\u001b[0m\u001b[1;32m    542\u001b[0m     \u001b[0;32melif\u001b[0m \u001b[0mhasattr\u001b[0m\u001b[0;34m(\u001b[0m\u001b[0mfilepath\u001b[0m\u001b[0;34m,\u001b[0m \u001b[0;34m'write'\u001b[0m\u001b[0;34m)\u001b[0m \u001b[0;32mand\u001b[0m \u001b[0mcallable\u001b[0m\u001b[0;34m(\u001b[0m\u001b[0mfilepath\u001b[0m\u001b[0;34m.\u001b[0m\u001b[0mwrite\u001b[0m\u001b[0;34m)\u001b[0m\u001b[0;34m:\u001b[0m\u001b[0;34m\u001b[0m\u001b[0;34m\u001b[0m\u001b[0m\n\u001b[1;32m    543\u001b[0m         \u001b[0;31m# write as binary stream\u001b[0m\u001b[0;34m\u001b[0m\u001b[0;34m\u001b[0m\u001b[0;34m\u001b[0m\u001b[0m\n",
            "\u001b[0;32m/usr/local/lib/python3.6/dist-packages/keras/engine/saving.py\u001b[0m in \u001b[0;36m_serialize_model\u001b[0;34m(model, h5dict, include_optimizer)\u001b[0m\n\u001b[1;32m    127\u001b[0m     \u001b[0mmodel_config\u001b[0m \u001b[0;34m=\u001b[0m \u001b[0;34m{\u001b[0m\u001b[0;34m}\u001b[0m\u001b[0;34m\u001b[0m\u001b[0;34m\u001b[0m\u001b[0m\n\u001b[1;32m    128\u001b[0m     \u001b[0mmodel_config\u001b[0m\u001b[0;34m[\u001b[0m\u001b[0;34m'class_name'\u001b[0m\u001b[0;34m]\u001b[0m \u001b[0;34m=\u001b[0m \u001b[0mmodel\u001b[0m\u001b[0;34m.\u001b[0m\u001b[0m__class__\u001b[0m\u001b[0;34m.\u001b[0m\u001b[0m__name__\u001b[0m\u001b[0;34m\u001b[0m\u001b[0;34m\u001b[0m\u001b[0m\n\u001b[0;32m--> 129\u001b[0;31m     \u001b[0mmodel_config\u001b[0m\u001b[0;34m[\u001b[0m\u001b[0;34m'config'\u001b[0m\u001b[0;34m]\u001b[0m \u001b[0;34m=\u001b[0m \u001b[0mmodel\u001b[0m\u001b[0;34m.\u001b[0m\u001b[0mget_config\u001b[0m\u001b[0;34m(\u001b[0m\u001b[0;34m)\u001b[0m\u001b[0;34m\u001b[0m\u001b[0;34m\u001b[0m\u001b[0m\n\u001b[0m\u001b[1;32m    130\u001b[0m     \u001b[0mmodel_config\u001b[0m \u001b[0;34m=\u001b[0m \u001b[0mjson\u001b[0m\u001b[0;34m.\u001b[0m\u001b[0mdumps\u001b[0m\u001b[0;34m(\u001b[0m\u001b[0mmodel_config\u001b[0m\u001b[0;34m,\u001b[0m \u001b[0mdefault\u001b[0m\u001b[0;34m=\u001b[0m\u001b[0mget_json_type\u001b[0m\u001b[0;34m)\u001b[0m\u001b[0;34m\u001b[0m\u001b[0;34m\u001b[0m\u001b[0m\n\u001b[1;32m    131\u001b[0m     \u001b[0mmodel_config\u001b[0m \u001b[0;34m=\u001b[0m \u001b[0mmodel_config\u001b[0m\u001b[0;34m.\u001b[0m\u001b[0mencode\u001b[0m\u001b[0;34m(\u001b[0m\u001b[0;34m'utf-8'\u001b[0m\u001b[0;34m)\u001b[0m\u001b[0;34m\u001b[0m\u001b[0;34m\u001b[0m\u001b[0m\n",
            "\u001b[0;32m/usr/local/lib/python3.6/dist-packages/keras/engine/sequential.py\u001b[0m in \u001b[0;36mget_config\u001b[0;34m(self)\u001b[0m\n\u001b[1;32m    277\u001b[0m             layer_configs.append({\n\u001b[1;32m    278\u001b[0m                 \u001b[0;34m'class_name'\u001b[0m\u001b[0;34m:\u001b[0m \u001b[0mlayer\u001b[0m\u001b[0;34m.\u001b[0m\u001b[0m__class__\u001b[0m\u001b[0;34m.\u001b[0m\u001b[0m__name__\u001b[0m\u001b[0;34m,\u001b[0m\u001b[0;34m\u001b[0m\u001b[0;34m\u001b[0m\u001b[0m\n\u001b[0;32m--> 279\u001b[0;31m                 \u001b[0;34m'config'\u001b[0m\u001b[0;34m:\u001b[0m \u001b[0mlayer\u001b[0m\u001b[0;34m.\u001b[0m\u001b[0mget_config\u001b[0m\u001b[0;34m(\u001b[0m\u001b[0;34m)\u001b[0m\u001b[0;34m\u001b[0m\u001b[0;34m\u001b[0m\u001b[0m\n\u001b[0m\u001b[1;32m    280\u001b[0m             })\n\u001b[1;32m    281\u001b[0m         config = {\n",
            "\u001b[0;32m/usr/local/lib/python3.6/dist-packages/keras/engine/network.py\u001b[0m in \u001b[0;36mget_config\u001b[0;34m(self)\u001b[0m\n\u001b[1;32m    944\u001b[0m             \u001b[0;32mif\u001b[0m \u001b[0mnode_key\u001b[0m \u001b[0;32mnot\u001b[0m \u001b[0;32min\u001b[0m \u001b[0mself\u001b[0m\u001b[0;34m.\u001b[0m\u001b[0m_network_nodes\u001b[0m\u001b[0;34m:\u001b[0m\u001b[0;34m\u001b[0m\u001b[0;34m\u001b[0m\u001b[0m\n\u001b[1;32m    945\u001b[0m                 \u001b[0;32mcontinue\u001b[0m\u001b[0;34m\u001b[0m\u001b[0;34m\u001b[0m\u001b[0m\n\u001b[0;32m--> 946\u001b[0;31m             \u001b[0mnew_node_index\u001b[0m \u001b[0;34m=\u001b[0m \u001b[0mnode_conversion_map\u001b[0m\u001b[0;34m[\u001b[0m\u001b[0mnode_key\u001b[0m\u001b[0;34m]\u001b[0m\u001b[0;34m\u001b[0m\u001b[0;34m\u001b[0m\u001b[0m\n\u001b[0m\u001b[1;32m    947\u001b[0m             \u001b[0mtensor_index\u001b[0m \u001b[0;34m=\u001b[0m \u001b[0mself\u001b[0m\u001b[0;34m.\u001b[0m\u001b[0m_output_coordinates\u001b[0m\u001b[0;34m[\u001b[0m\u001b[0mi\u001b[0m\u001b[0;34m]\u001b[0m\u001b[0;34m[\u001b[0m\u001b[0;36m2\u001b[0m\u001b[0;34m]\u001b[0m\u001b[0;34m\u001b[0m\u001b[0;34m\u001b[0m\u001b[0m\n\u001b[1;32m    948\u001b[0m             \u001b[0mmodel_outputs\u001b[0m\u001b[0;34m.\u001b[0m\u001b[0mappend\u001b[0m\u001b[0;34m(\u001b[0m\u001b[0;34m[\u001b[0m\u001b[0mlayer\u001b[0m\u001b[0;34m.\u001b[0m\u001b[0mname\u001b[0m\u001b[0;34m,\u001b[0m \u001b[0mnew_node_index\u001b[0m\u001b[0;34m,\u001b[0m \u001b[0mtensor_index\u001b[0m\u001b[0;34m]\u001b[0m\u001b[0;34m)\u001b[0m\u001b[0;34m\u001b[0m\u001b[0;34m\u001b[0m\u001b[0m\n",
            "\u001b[0;31mKeyError\u001b[0m: 'predictions_ib-0'"
          ]
        }
      ]
    },
    {
      "cell_type": "code",
      "metadata": {
        "id": "juOvhmBxZEG-",
        "colab_type": "code",
        "outputId": "80a509c6-a82e-4f33-e401-f14fa8ad2ceb",
        "colab": {
          "base_uri": "https://localhost:8080/",
          "height": 361
        }
      },
      "source": [
        "# from keras.callbacks import EarlyStopping\n",
        "early_stopping = keras.callbacks.EarlyStopping(patience=10, restore_best_weights=True), #add early stopping\n",
        "xhistory_2 = xmodel_1.fit_generator(\n",
        "    train_generator,\n",
        "    steps_per_epoch=None,\n",
        "    epochs=30,\n",
        "    \n",
        "    # keras.callbacks.EarlyStopping(patience=10, restore_best_weights=True), #add early stopping\n",
        "    validation_data=validation_generator,\n",
        "    callbacks = early_stopping,\n",
        "    validation_steps=None)"
      ],
      "execution_count": 0,
      "outputs": [
        {
          "output_type": "error",
          "ename": "TypeError",
          "evalue": "ignored",
          "traceback": [
            "\u001b[0;31m---------------------------------------------------------------------------\u001b[0m",
            "\u001b[0;31mTypeError\u001b[0m                                 Traceback (most recent call last)",
            "\u001b[0;32m<ipython-input-12-83ea62a8b04d>\u001b[0m in \u001b[0;36m<module>\u001b[0;34m()\u001b[0m\n\u001b[1;32m      8\u001b[0m     \u001b[0mvalidation_data\u001b[0m\u001b[0;34m=\u001b[0m\u001b[0mvalidation_generator\u001b[0m\u001b[0;34m,\u001b[0m\u001b[0;34m\u001b[0m\u001b[0;34m\u001b[0m\u001b[0m\n\u001b[1;32m      9\u001b[0m     \u001b[0mcallbacks\u001b[0m \u001b[0;34m=\u001b[0m \u001b[0mearly_stopping\u001b[0m\u001b[0;34m,\u001b[0m\u001b[0;34m\u001b[0m\u001b[0;34m\u001b[0m\u001b[0m\n\u001b[0;32m---> 10\u001b[0;31m     validation_steps=None)\n\u001b[0m",
            "\u001b[0;32m/usr/local/lib/python3.6/dist-packages/keras/legacy/interfaces.py\u001b[0m in \u001b[0;36mwrapper\u001b[0;34m(*args, **kwargs)\u001b[0m\n\u001b[1;32m     89\u001b[0m                 warnings.warn('Update your `' + object_name + '` call to the ' +\n\u001b[1;32m     90\u001b[0m                               'Keras 2 API: ' + signature, stacklevel=2)\n\u001b[0;32m---> 91\u001b[0;31m             \u001b[0;32mreturn\u001b[0m \u001b[0mfunc\u001b[0m\u001b[0;34m(\u001b[0m\u001b[0;34m*\u001b[0m\u001b[0margs\u001b[0m\u001b[0;34m,\u001b[0m \u001b[0;34m**\u001b[0m\u001b[0mkwargs\u001b[0m\u001b[0;34m)\u001b[0m\u001b[0;34m\u001b[0m\u001b[0;34m\u001b[0m\u001b[0m\n\u001b[0m\u001b[1;32m     92\u001b[0m         \u001b[0mwrapper\u001b[0m\u001b[0;34m.\u001b[0m\u001b[0m_original_function\u001b[0m \u001b[0;34m=\u001b[0m \u001b[0mfunc\u001b[0m\u001b[0;34m\u001b[0m\u001b[0;34m\u001b[0m\u001b[0m\n\u001b[1;32m     93\u001b[0m         \u001b[0;32mreturn\u001b[0m \u001b[0mwrapper\u001b[0m\u001b[0;34m\u001b[0m\u001b[0;34m\u001b[0m\u001b[0m\n",
            "\u001b[0;32m/usr/local/lib/python3.6/dist-packages/keras/engine/training.py\u001b[0m in \u001b[0;36mfit_generator\u001b[0;34m(self, generator, steps_per_epoch, epochs, verbose, callbacks, validation_data, validation_steps, validation_freq, class_weight, max_queue_size, workers, use_multiprocessing, shuffle, initial_epoch)\u001b[0m\n\u001b[1;32m   1730\u001b[0m             \u001b[0muse_multiprocessing\u001b[0m\u001b[0;34m=\u001b[0m\u001b[0muse_multiprocessing\u001b[0m\u001b[0;34m,\u001b[0m\u001b[0;34m\u001b[0m\u001b[0;34m\u001b[0m\u001b[0m\n\u001b[1;32m   1731\u001b[0m             \u001b[0mshuffle\u001b[0m\u001b[0;34m=\u001b[0m\u001b[0mshuffle\u001b[0m\u001b[0;34m,\u001b[0m\u001b[0;34m\u001b[0m\u001b[0;34m\u001b[0m\u001b[0m\n\u001b[0;32m-> 1732\u001b[0;31m             initial_epoch=initial_epoch)\n\u001b[0m\u001b[1;32m   1733\u001b[0m \u001b[0;34m\u001b[0m\u001b[0m\n\u001b[1;32m   1734\u001b[0m     \u001b[0;34m@\u001b[0m\u001b[0minterfaces\u001b[0m\u001b[0;34m.\u001b[0m\u001b[0mlegacy_generator_methods_support\u001b[0m\u001b[0;34m\u001b[0m\u001b[0;34m\u001b[0m\u001b[0m\n",
            "\u001b[0;32m/usr/local/lib/python3.6/dist-packages/keras/engine/training_generator.py\u001b[0m in \u001b[0;36mfit_generator\u001b[0;34m(model, generator, steps_per_epoch, epochs, verbose, callbacks, validation_data, validation_steps, validation_freq, class_weight, max_queue_size, workers, use_multiprocessing, shuffle, initial_epoch)\u001b[0m\n\u001b[1;32m     92\u001b[0m                 \u001b[0mcount_mode\u001b[0m\u001b[0;34m=\u001b[0m\u001b[0;34m'steps'\u001b[0m\u001b[0;34m,\u001b[0m\u001b[0;34m\u001b[0m\u001b[0;34m\u001b[0m\u001b[0m\n\u001b[1;32m     93\u001b[0m                 stateful_metrics=model.metrics_names[1:]))\n\u001b[0;32m---> 94\u001b[0;31m     \u001b[0m_callbacks\u001b[0m \u001b[0;34m+=\u001b[0m \u001b[0;34m(\u001b[0m\u001b[0mcallbacks\u001b[0m \u001b[0;32mor\u001b[0m \u001b[0;34m[\u001b[0m\u001b[0;34m]\u001b[0m\u001b[0;34m)\u001b[0m \u001b[0;34m+\u001b[0m \u001b[0;34m[\u001b[0m\u001b[0mmodel\u001b[0m\u001b[0;34m.\u001b[0m\u001b[0mhistory\u001b[0m\u001b[0;34m]\u001b[0m\u001b[0;34m\u001b[0m\u001b[0;34m\u001b[0m\u001b[0m\n\u001b[0m\u001b[1;32m     95\u001b[0m     \u001b[0mcallbacks\u001b[0m \u001b[0;34m=\u001b[0m \u001b[0mcbks\u001b[0m\u001b[0;34m.\u001b[0m\u001b[0mCallbackList\u001b[0m\u001b[0;34m(\u001b[0m\u001b[0m_callbacks\u001b[0m\u001b[0;34m)\u001b[0m\u001b[0;34m\u001b[0m\u001b[0;34m\u001b[0m\u001b[0m\n\u001b[1;32m     96\u001b[0m \u001b[0;34m\u001b[0m\u001b[0m\n",
            "\u001b[0;31mTypeError\u001b[0m: can only concatenate tuple (not \"list\") to tuple"
          ]
        }
      ]
    },
    {
      "cell_type": "code",
      "metadata": {
        "id": "BKz5m8UKYzfS",
        "colab_type": "code",
        "outputId": "bda1bcba-e16f-483d-d86e-6afc176b2a56",
        "colab": {
          "base_uri": "https://localhost:8080/",
          "height": 232
        }
      },
      "source": [
        "import matplotlib.pyplot as plt\n",
        "\n",
        "plt.plot(xhistory_2.history['accuracy'])\n",
        "plt.plot(xhistory_2.history['val_accuracy'])\n",
        "plt.title('Model Accuracy')\n",
        "plt.ylabel('Accuracy')\n",
        "plt.xlabel('Epoch')\n",
        "plt.legend(['Train','val'], loc='upper left')\n",
        "plt.show()"
      ],
      "execution_count": 0,
      "outputs": [
        {
          "output_type": "error",
          "ename": "NameError",
          "evalue": "ignored",
          "traceback": [
            "\u001b[0;31m---------------------------------------------------------------------------\u001b[0m",
            "\u001b[0;31mNameError\u001b[0m                                 Traceback (most recent call last)",
            "\u001b[0;32m<ipython-input-8-1ce0549a9f12>\u001b[0m in \u001b[0;36m<module>\u001b[0;34m()\u001b[0m\n\u001b[1;32m      1\u001b[0m \u001b[0;32mimport\u001b[0m \u001b[0mmatplotlib\u001b[0m\u001b[0;34m.\u001b[0m\u001b[0mpyplot\u001b[0m \u001b[0;32mas\u001b[0m \u001b[0mplt\u001b[0m\u001b[0;34m\u001b[0m\u001b[0;34m\u001b[0m\u001b[0m\n\u001b[1;32m      2\u001b[0m \u001b[0;34m\u001b[0m\u001b[0m\n\u001b[0;32m----> 3\u001b[0;31m \u001b[0mplt\u001b[0m\u001b[0;34m.\u001b[0m\u001b[0mplot\u001b[0m\u001b[0;34m(\u001b[0m\u001b[0mxhistory_2\u001b[0m\u001b[0;34m.\u001b[0m\u001b[0mhistory\u001b[0m\u001b[0;34m[\u001b[0m\u001b[0;34m'accuracy'\u001b[0m\u001b[0;34m]\u001b[0m\u001b[0;34m)\u001b[0m\u001b[0;34m\u001b[0m\u001b[0;34m\u001b[0m\u001b[0m\n\u001b[0m\u001b[1;32m      4\u001b[0m \u001b[0mplt\u001b[0m\u001b[0;34m.\u001b[0m\u001b[0mplot\u001b[0m\u001b[0;34m(\u001b[0m\u001b[0mxhistory_2\u001b[0m\u001b[0;34m.\u001b[0m\u001b[0mhistory\u001b[0m\u001b[0;34m[\u001b[0m\u001b[0;34m'val_accuracy'\u001b[0m\u001b[0;34m]\u001b[0m\u001b[0;34m)\u001b[0m\u001b[0;34m\u001b[0m\u001b[0;34m\u001b[0m\u001b[0m\n\u001b[1;32m      5\u001b[0m \u001b[0mplt\u001b[0m\u001b[0;34m.\u001b[0m\u001b[0mtitle\u001b[0m\u001b[0;34m(\u001b[0m\u001b[0;34m'Model Accuracy'\u001b[0m\u001b[0;34m)\u001b[0m\u001b[0;34m\u001b[0m\u001b[0;34m\u001b[0m\u001b[0m\n",
            "\u001b[0;31mNameError\u001b[0m: name 'xhistory_2' is not defined"
          ]
        }
      ]
    },
    {
      "cell_type": "code",
      "metadata": {
        "id": "wugY-amuY4be",
        "colab_type": "code",
        "outputId": "9eb5505e-7b49-4bc1-d97b-5ec5b2dcdb77",
        "colab": {
          "base_uri": "https://localhost:8080/",
          "height": 181
        }
      },
      "source": [
        "xmodel_2.save('/content/gdrive/My Drive/xmodel_2.h5')\n",
        "xmodel_2.save_weights('/content/gdrive/My Drive/xmodel_2_weight.h5')"
      ],
      "execution_count": 0,
      "outputs": [
        {
          "output_type": "error",
          "ename": "NameError",
          "evalue": "ignored",
          "traceback": [
            "\u001b[0;31m---------------------------------------------------------------------------\u001b[0m",
            "\u001b[0;31mNameError\u001b[0m                                 Traceback (most recent call last)",
            "\u001b[0;32m<ipython-input-9-8ed37c0e6658>\u001b[0m in \u001b[0;36m<module>\u001b[0;34m()\u001b[0m\n\u001b[0;32m----> 1\u001b[0;31m \u001b[0mxmodel_2\u001b[0m\u001b[0;34m.\u001b[0m\u001b[0msave\u001b[0m\u001b[0;34m(\u001b[0m\u001b[0;34m'/content/gdrive/My Drive/xmodel_2.h5'\u001b[0m\u001b[0;34m)\u001b[0m\u001b[0;34m\u001b[0m\u001b[0;34m\u001b[0m\u001b[0m\n\u001b[0m\u001b[1;32m      2\u001b[0m \u001b[0mxmodel_2\u001b[0m\u001b[0;34m.\u001b[0m\u001b[0msave_weights\u001b[0m\u001b[0;34m(\u001b[0m\u001b[0;34m'/content/gdrive/My Drive/xmodel_2_weight.h5'\u001b[0m\u001b[0;34m)\u001b[0m\u001b[0;34m\u001b[0m\u001b[0;34m\u001b[0m\u001b[0m\n",
            "\u001b[0;31mNameError\u001b[0m: name 'xmodel_2' is not defined"
          ]
        }
      ]
    }
  ]
}